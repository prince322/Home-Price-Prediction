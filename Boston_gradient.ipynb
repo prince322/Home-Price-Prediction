{
 "cells": [
  {
   "cell_type": "code",
   "execution_count": 6,
   "metadata": {},
   "outputs": [],
   "source": [
    "import numpy as np\n",
    "import pandas as pd"
   ]
  },
  {
   "cell_type": "code",
   "execution_count": 2,
   "metadata": {},
   "outputs": [],
   "source": [
    "def step_grd(data,m,lr_rate):\n",
    "    n=data.shape\n",
    "    m_slope=np.zeros(n[1])\n",
    "    x=data[:,0:13]\n",
    "    c=np.ones(n[0])\n",
    "    x=np.insert(x,13,c,axis=1)\n",
    "    y=data[:,13]\n",
    "    for i in range(n[1]):\n",
    "        x_c=x[:,i]\n",
    "        m_slope[i]=(-2/n[0])*((y-np.dot(x,m))*x_c).sum()\n",
    "    new_m=m-lr_rate*m_slope\n",
    "    return new_m"
   ]
  },
  {
   "cell_type": "code",
   "execution_count": 3,
   "metadata": {},
   "outputs": [],
   "source": [
    "def grd(data,lr_rate,num_iters):\n",
    "    n=data.shape\n",
    "    m=np.zeros(n[1])\n",
    "    for i in range(num_iters):\n",
    "        m=step_grd(data,m,lr_rate)\n",
    "    return m\n",
    "    "
   ]
  },
  {
   "cell_type": "code",
   "execution_count": 4,
   "metadata": {},
   "outputs": [],
   "source": [
    "def predict(x_tst,m,c):\n",
    "    y_pred=np.dot(x_tst,m)+c\n",
    "    return y_pred"
   ]
  },
  {
   "cell_type": "code",
   "execution_count": 37,
   "metadata": {},
   "outputs": [
    {
     "name": "stdout",
     "output_type": "stream",
     "text": [
      "\n",
      " Training Data \n",
      "\n",
      "     # CRIM        ZN     INDUS      CHAS       NOX        RM       AGE  \\\n",
      "0 -0.407850 -0.487722 -1.266023 -0.272599 -0.576134  1.239974  0.840122   \n",
      "1 -0.407374 -0.487722  0.247057 -0.272599 -1.016689  0.001946 -0.838337   \n",
      "2  0.125179 -0.487722  1.015999 -0.272599  1.367490 -0.439699  0.687212   \n",
      "3  0.028304 -0.487722  1.015999 -0.272599  1.859875 -0.047918  0.801005   \n",
      "4 -0.412408 -0.487722 -0.969827 -0.272599 -0.913029 -0.384137 -0.834781   \n",
      "5 -0.416934  1.014463 -1.403178 -0.272599 -0.973497  1.362495 -0.685427   \n",
      "\n",
      "        DIS       RAD       TAX   PTRATIO         B     LSTAT     Y  \n",
      "0 -0.520264 -0.752922 -1.278354 -0.303094  0.410571 -1.097990  37.9  \n",
      "1  0.336351 -0.523001 -0.060801  0.113032  0.291169 -0.520474  21.4  \n",
      "2 -0.577309  1.661245  1.530926  0.806576 -3.795795  0.891076  12.7  \n",
      "3 -0.712836  1.661245  1.530926  0.806576 -0.066050  0.215438  19.9  \n",
      "4  0.300508 -0.752922 -0.957633  0.020560  0.431074  0.029007  22.5  \n",
      "5  1.541554 -0.982843 -0.737880 -1.366528  0.417369 -1.004074  32.7  \n",
      "\n",
      "\n",
      "Testing Data\n",
      "\n",
      "   2.91816626  -0.48772236  1.01599907  -0.27259857  0.36544404  -1.60934343  \\\n",
      "0   -0.403392    -0.487722    0.406098    -0.272599   -1.016689     0.560412   \n",
      "1   -0.413178    -0.487722    0.115738    -0.272599    0.158124    -0.234548   \n",
      "2   -0.412649     0.413589   -0.802031    -0.272599   -0.999412    -0.408356   \n",
      "3   -0.405882    -0.487722   -0.375976    -0.272599   -0.299707    -0.127698   \n",
      "\n",
      "   1.11749449  -1.04849446  1.66124525  1.53092646  0.80657583  -1.59755122  \\\n",
      "0   -1.332629     1.029344   -0.637962   -0.708183   -1.135347     0.441052   \n",
      "1    0.288933    -0.716639   -0.982843   -0.803212    1.176466     0.441052   \n",
      "2   -1.677566     1.435452   -0.637962   -0.981390   -0.765457     0.441052   \n",
      "3   -0.504068    -0.483566   -0.523001   -0.143951    1.130230     0.403663   \n",
      "\n",
      "   1.04106182  \n",
      "0   -0.894738  \n",
      "1   -0.500850  \n",
      "2   -0.591963  \n",
      "3    0.048631  \n",
      "\n",
      " Output \n",
      " \n",
      "12.309559913272821\n",
      "28.875915936439245\n",
      "22.401559724944992\n",
      "24.341613188976442\n"
     ]
    }
   ],
   "source": [
    "def run():\n",
    "    dat=pd.read_csv(r'C:\\Users\\KUNAL\\Downloads\\training_boston_x_y_train.csv')\n",
    "    dat_tst=pd.read_csv(r'C:\\Users\\KUNAL\\Downloads\\test_boston_x_test.csv')\n",
    "    df=np.genfromtxt(r'C:\\Users\\KUNAL\\Downloads\\training_boston_x_y_train.csv',delimiter=',')\n",
    "    tst=np.genfromtxt(r'C:\\Users\\KUNAL\\Downloads\\test_boston_x_test.csv',delimiter=',')\n",
    "    lr_rate=0.001\n",
    "    num_iters=10000\n",
    "    m=grd(df,lr_rate,num_iters)\n",
    "    y_pred=predict(tst,m[:13],m[13])\n",
    "    print(\"\\n Training Data \\n\")\n",
    "    print(dat.head(6))\n",
    "    print()\n",
    "    print(\"\\nTesting Data\\n\")\n",
    "    print(dat_tst.head(4))\n",
    "    print(\"\\n Output \\n \")\n",
    "    for i in range(4):\n",
    "        print(y_pred[i])\n",
    "    np.savetxt('boston_prediction11.csv',y_pred)\n",
    "run()"
   ]
  }
 ],
 "metadata": {
  "kernelspec": {
   "display_name": "Python 3",
   "language": "python",
   "name": "python3"
  },
  "language_info": {
   "codemirror_mode": {
    "name": "ipython",
    "version": 3
   },
   "file_extension": ".py",
   "mimetype": "text/x-python",
   "name": "python",
   "nbconvert_exporter": "python",
   "pygments_lexer": "ipython3",
   "version": "3.7.2"
  }
 },
 "nbformat": 4,
 "nbformat_minor": 4
}
